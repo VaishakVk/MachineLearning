{
 "cells": [
  {
   "cell_type": "code",
   "execution_count": 1,
   "metadata": {},
   "outputs": [],
   "source": [
    "# Dependencies\n",
    "import tweepy\n",
    "from textblob import TextBlob\n",
    "from datetime import datetime, timedelta\n",
    "import numpy as np\n",
    "import matplotlib.pyplot as plt"
   ]
  },
  {
   "cell_type": "code",
   "execution_count": 2,
   "metadata": {},
   "outputs": [],
   "source": [
    "# Declare variables for Authentication\n",
    "\n",
    "consumer_key ='bXWxLAweEkINBkuCqFP2eI76t'\n",
    "consumer_key_secret = 'GqSrUfAcWcS5w0OgJLD1TBQk1nBvfu6bwntzvknulXONm2jG0E'\n",
    "\n",
    "access_token = '2483989434-2n5nIvgjDLKAfie5bjWPpyXEny1gpJnftHvZ9HJ'\n",
    "access_token_secret = 'quA5qw8xGpYrORRBN5cjaGKsoqcoLlXAhMARGk8i6WUjC'"
   ]
  },
  {
   "cell_type": "code",
   "execution_count": 3,
   "metadata": {},
   "outputs": [],
   "source": [
    "# Authenticating\n",
    "\n",
    "auth = tweepy.OAuthHandler(consumer_key, consumer_key_secret)\n",
    "auth.set_access_token(access_token, access_token_secret)\n",
    "api = tweepy.API(auth)"
   ]
  },
  {
   "cell_type": "code",
   "execution_count": 4,
   "metadata": {},
   "outputs": [],
   "source": [
    "# Search for Tweets. Update the variable to anything that has to analyzed.\n",
    "search_tweet = 'Oppenheimer'\n",
    "\n",
    "# List to store sentiments\n",
    "sentiments = []\n",
    "\n",
    "#Determine how old the tweets have to be picked\n",
    "today = datetime.now().strftime('%Y-%m-%d')\n",
    "n_days_ago = (datetime.now() - timedelta(days = 3)).strftime('%Y-%m-%d')\n",
    "\n",
    "# Limit the number of tweets by passing value to items()\n",
    "for i in tweepy.Cursor(api.search, q = search_tweet, since= n_days_ago, until= today).items(110):\n",
    "    tweet = TextBlob(i.text)\n",
    "    sentiments.append(tweet.sentiment.polarity)"
   ]
  },
  {
   "cell_type": "code",
   "execution_count": 5,
   "metadata": {},
   "outputs": [
    {
     "data": {
      "image/png": "[encoded data removed]",
      "text/plain": [
       "<matplotlib.figure.Figure at 0xca8f810>"
      ]
     },
     "metadata": {},
     "output_type": "display_data"
    }
   ],
   "source": [
    "# Sentiment Analysis\n",
    "plt.title(\"Sentiment Analysis\")\n",
    "plt.xlabel(\"Sentiment\")\n",
    "plt.ylabel(\"Frequency\")\n",
    "plt.hist(sentiments, range = (-1.1, 1.1), bins = 10)\n",
    "plt.show()"
   ]
  },
  {
   "cell_type": "code",
   "execution_count": 6,
   "metadata": {},
   "outputs": [],
   "source": [
    "# Check the Sentiment\n",
    "# if polarity is >= 0.2, then it is positive\n",
    "# if polarity <= -0.2 , then it is negative\n",
    "# Others are neutral\n",
    "\n",
    "positive_count_percent = len([i for i in sentiments if i >= 0.2]) * 100 /float(len(sentiments))\n",
    "negative_count_percent = len([i for i in sentiments if i <= -0.2]) * 100 /float(len(sentiments))\n",
    "neutral_count_percent = len([i for i in sentiments if -0.2 < i < 0.2]) * 100 /float(len(sentiments))"
   ]
  },
  {
   "cell_type": "code",
   "execution_count": 7,
   "metadata": {},
   "outputs": [
    {
     "data": {
      "image/png": "[encoded data removed]",
      "text/plain": [
       "<matplotlib.figure.Figure at 0xca8f750>"
      ]
     },
     "metadata": {},
     "output_type": "display_data"
    }
   ],
   "source": [
    "# Bar graph to depict Sentiment analysis\n",
    "Y_Sentiment_Percent = [negative_count_percent, neutral_count_percent, positive_count_percent]\n",
    "X_Sentiment = ['Negative', 'Neutral', 'Positive']\n",
    "sentiment_bar = plt.bar(X_Sentiment, Y_Sentiment_Percent, color = ['red', 'yellow', 'green'])\n",
    "for i in sentiment_bar:\n",
    "        height = i.get_height()\n",
    "        plt.text(i.get_x() + i.get_width()/2., height, '%d' % round(height), ha='center', va='bottom')\n",
    "\n",
    "plt.title(\"Sentiment Analysis\")\n",
    "plt.xlabel(\"Sentiment\")\n",
    "plt.ylabel(\"Percentage\")\n",
    "plt.show()"
   ]
  }
 ],
 "metadata": {
  "kernelspec": {
   "display_name": "Python 3",
   "language": "python",
   "name": "python3"
  },
  "language_info": {
   "codemirror_mode": {
    "name": "ipython",
    "version": 3
   },
   "file_extension": ".py",
   "mimetype": "text/x-python",
   "name": "python",
   "nbconvert_exporter": "python",
   "pygments_lexer": "ipython3",
   "version": "3.6.2"
  }
 },
 "nbformat": 4,
 "nbformat_minor": 2
}
